{
 "cells": [
  {
   "cell_type": "code",
   "execution_count": 167,
   "metadata": {},
   "outputs": [],
   "source": [
    "class Node:\n",
    "    def __init__(self,val):\n",
    "        self.val = val\n",
    "        self.next = None\n",
    "        \n",
    "    def traverse(self):\n",
    "        curr = self\n",
    "        result = []\n",
    "        while curr:\n",
    "            result.append(curr.val)\n",
    "            print(curr.val,\"-->\", end = ' ')\n",
    "            curr = curr.next\n",
    "        print ('end')\n",
    "        \n",
    "    def removeDuplicate(self):\n",
    "        vals = set()\n",
    "        curr = self\n",
    "        previous = None\n",
    "        while curr:\n",
    "            if curr.val in vals:\n",
    "                previous.next = curr.next\n",
    "            else:\n",
    "                vals.add(curr.val)\n",
    "                previous = curr\n",
    "            curr = curr.next\n",
    "            \n",
    "    def get_kth_to_last(self, k):\n",
    "        curr = self\n",
    "        count = 1\n",
    "        while count != k:\n",
    "            count += 1\n",
    "            curr = curr.next\n",
    "        while curr:\n",
    "            print (curr.val, '-->', end=' ')\n",
    "            curr = curr.next\n",
    "        print('end')\n",
    "        \n",
    "    def delete(self, node):\n",
    "        head = self\n",
    "        flag = 0\n",
    "        while head.next:\n",
    "            if head.next == node:\n",
    "                head.next = head.next.next\n",
    "                flag = 1\n",
    "                break\n",
    "            head = head.next\n",
    "        if flag == 0:\n",
    "            print(\"No such node\")\n",
    "            \n",
    "    def add_l2r(self, node):\n",
    "        node1 = traverse(self)\n",
    "        node2 = traverse(node)\n",
    "        print (node1, node2)"
   ]
  },
  {
   "cell_type": "markdown",
   "metadata": {},
   "source": [
    "### Traverse a linked list"
   ]
  },
  {
   "cell_type": "code",
   "execution_count": 168,
   "metadata": {
    "collapsed": true
   },
   "outputs": [],
   "source": [
    "node0 = Node(1)\n",
    "node1 = Node(2)\n",
    "node2 = Node(3)\n",
    "node3 = Node(1)\n",
    "node4 = Node(2)\n",
    "\n",
    "node0.next = node1\n",
    "node1.next = node2\n",
    "node2.next = node3\n",
    "node3.next = node4"
   ]
  },
  {
   "cell_type": "code",
   "execution_count": 169,
   "metadata": {},
   "outputs": [
    {
     "name": "stdout",
     "output_type": "stream",
     "text": [
      "1 --> 2 --> 3 --> 1 --> 2 --> end\n"
     ]
    }
   ],
   "source": [
    "node0.traverse()"
   ]
  },
  {
   "cell_type": "code",
   "execution_count": 170,
   "metadata": {},
   "outputs": [
    {
     "name": "stdout",
     "output_type": "stream",
     "text": [
      "1 --> 2 --> 3 --> end\n"
     ]
    }
   ],
   "source": [
    "node0.removeDuplicate()\n",
    "node0.traverse()"
   ]
  },
  {
   "cell_type": "code",
   "execution_count": 171,
   "metadata": {},
   "outputs": [
    {
     "name": "stdout",
     "output_type": "stream",
     "text": [
      "2 --> 3 --> end\n"
     ]
    }
   ],
   "source": [
    "node0.get_kth_to_last(2)"
   ]
  },
  {
   "cell_type": "code",
   "execution_count": 172,
   "metadata": {},
   "outputs": [
    {
     "name": "stdout",
     "output_type": "stream",
     "text": [
      "1 --> 2 --> end\n"
     ]
    }
   ],
   "source": [
    "node0.delete(node2)\n",
    "node0.traverse()"
   ]
  },
  {
   "cell_type": "code",
   "execution_count": 173,
   "metadata": {},
   "outputs": [
    {
     "name": "stdout",
     "output_type": "stream",
     "text": [
      "[1, 2] [3]\n"
     ]
    }
   ],
   "source": [
    "node0.add_l2r(node2)"
   ]
  },
  {
   "cell_type": "code",
   "execution_count": 155,
   "metadata": {},
   "outputs": [
    {
     "name": "stdout",
     "output_type": "stream",
     "text": [
      "3 --> end\n"
     ]
    }
   ],
   "source": [
    "test = node2.traverse()"
   ]
  }
 ],
 "metadata": {
  "kernelspec": {
   "display_name": "Python 3",
   "language": "python",
   "name": "python3"
  },
  "language_info": {
   "codemirror_mode": {
    "name": "ipython",
    "version": 3
   },
   "file_extension": ".py",
   "mimetype": "text/x-python",
   "name": "python",
   "nbconvert_exporter": "python",
   "pygments_lexer": "ipython3",
   "version": "3.6.3"
  }
 },
 "nbformat": 4,
 "nbformat_minor": 2
}
